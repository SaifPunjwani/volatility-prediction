{
  "cells": [
    {
      "cell_type": "code",
      "execution_count": 1,
      "metadata": {
        "id": "sJ2aEk7BbuAS"
      },
      "outputs": [],
      "source": [
        "import sklearn.decomposition\n",
        "import pandas as pd\n",
        "import numpy as np\n",
        "import matplotlib.pyplot as plt"
      ]
    },
    {
      "cell_type": "code",
      "execution_count": 3,
      "metadata": {},
      "outputs": [],
      "source": [
        "import random\n",
        "import glob\n",
        "import gc\n",
        "from itertools import product\n",
        "from tqdm.notebook import tqdm\n",
        "from statsmodels.tsa.arima_model import ARIMA\n",
        "from statsmodels.graphics.tsaplots import plot_acf, plot_pacf"
      ]
    },
    {
      "cell_type": "markdown",
      "metadata": {
        "id": "Gz21M8BHbuAV"
      },
      "source": [
        "This is only for the stock `stock_id=0`."
      ]
    },
    {
      "cell_type": "code",
      "execution_count": 2,
      "metadata": {
        "id": "9o6nH8ufbuAW"
      },
      "outputs": [],
      "source": [
        "book_df = pd.read_parquet(\"optiver-realized-volatility-prediction/book_train.parquet/stock_id=0/c439ef22282f412ba39e9137a3fdabac.parquet\")\n",
        "trade_df = pd.read_parquet(\"optiver-realized-volatility-prediction/trade_train.parquet/stock_id=0/ef805fd82ff54fadb363094e3b122ab9.parquet\")\n",
        "\n",
        "target_df = pd.read_csv(\"optiver-realized-volatility-prediction/train.csv\")\n",
        "# the target_df contains all stocks. The following line restricts it to stock_id=0 and drops the label, since it's not relevant\n",
        "target_df = target_df[target_df.stock_id == 0].drop('stock_id', axis=1)"
      ]
    },
    {
      "cell_type": "markdown",
      "metadata": {
        "id": "B_2QlG_rbuAX"
      },
      "source": [
        "In the following `book_df`, there are many 10-minute windows/buckets of data. The row number is meaningless. Each `time_id` corresponds to *one* bucket, and `seconds_in_bucket` is how far into that bucket the observation is. There are gaps in `time_id` and `seconds_in_bucket`. The gaps in `seconds_in_bucket` means that we do not have access to a complete second-by-second record of the order book. Many records are left out. In this dataframe, there are 8 features once the `time_id` and `seconds_in_bucket` have been specified. Note that `seconds_in_bucket` 0 is always present, but all other times may or may not be. In fact, I checked, and every second other than 0 is missing in at least one bucket. And every second from 0-599 is present in at least one bucket."
      ]
    },
    {
      "cell_type": "code",
      "execution_count": 3,
      "metadata": {
        "id": "lQH-50gdbuAY",
        "outputId": "2977f467-7145-4ffa-83ee-00ff1db3b6cc"
      },
      "outputs": [
        {
          "data": {
            "text/html": [
              "<div>\n",
              "<style scoped>\n",
              "    .dataframe tbody tr th:only-of-type {\n",
              "        vertical-align: middle;\n",
              "    }\n",
              "\n",
              "    .dataframe tbody tr th {\n",
              "        vertical-align: top;\n",
              "    }\n",
              "\n",
              "    .dataframe thead th {\n",
              "        text-align: right;\n",
              "    }\n",
              "</style>\n",
              "<table border=\"1\" class=\"dataframe\">\n",
              "  <thead>\n",
              "    <tr style=\"text-align: right;\">\n",
              "      <th></th>\n",
              "      <th>time_id</th>\n",
              "      <th>seconds_in_bucket</th>\n",
              "      <th>bid_price1</th>\n",
              "      <th>ask_price1</th>\n",
              "      <th>bid_price2</th>\n",
              "      <th>ask_price2</th>\n",
              "      <th>bid_size1</th>\n",
              "      <th>ask_size1</th>\n",
              "      <th>bid_size2</th>\n",
              "      <th>ask_size2</th>\n",
              "    </tr>\n",
              "  </thead>\n",
              "  <tbody>\n",
              "    <tr>\n",
              "      <th>0</th>\n",
              "      <td>5</td>\n",
              "      <td>0</td>\n",
              "      <td>1.001422</td>\n",
              "      <td>1.002301</td>\n",
              "      <td>1.00137</td>\n",
              "      <td>1.002353</td>\n",
              "      <td>3</td>\n",
              "      <td>226</td>\n",
              "      <td>2</td>\n",
              "      <td>100</td>\n",
              "    </tr>\n",
              "    <tr>\n",
              "      <th>1</th>\n",
              "      <td>5</td>\n",
              "      <td>1</td>\n",
              "      <td>1.001422</td>\n",
              "      <td>1.002301</td>\n",
              "      <td>1.00137</td>\n",
              "      <td>1.002353</td>\n",
              "      <td>3</td>\n",
              "      <td>100</td>\n",
              "      <td>2</td>\n",
              "      <td>100</td>\n",
              "    </tr>\n",
              "    <tr>\n",
              "      <th>2</th>\n",
              "      <td>5</td>\n",
              "      <td>5</td>\n",
              "      <td>1.001422</td>\n",
              "      <td>1.002301</td>\n",
              "      <td>1.00137</td>\n",
              "      <td>1.002405</td>\n",
              "      <td>3</td>\n",
              "      <td>100</td>\n",
              "      <td>2</td>\n",
              "      <td>100</td>\n",
              "    </tr>\n",
              "    <tr>\n",
              "      <th>3</th>\n",
              "      <td>5</td>\n",
              "      <td>6</td>\n",
              "      <td>1.001422</td>\n",
              "      <td>1.002301</td>\n",
              "      <td>1.00137</td>\n",
              "      <td>1.002405</td>\n",
              "      <td>3</td>\n",
              "      <td>126</td>\n",
              "      <td>2</td>\n",
              "      <td>100</td>\n",
              "    </tr>\n",
              "    <tr>\n",
              "      <th>4</th>\n",
              "      <td>5</td>\n",
              "      <td>7</td>\n",
              "      <td>1.001422</td>\n",
              "      <td>1.002301</td>\n",
              "      <td>1.00137</td>\n",
              "      <td>1.002405</td>\n",
              "      <td>3</td>\n",
              "      <td>126</td>\n",
              "      <td>2</td>\n",
              "      <td>100</td>\n",
              "    </tr>\n",
              "  </tbody>\n",
              "</table>\n",
              "</div>"
            ],
            "text/plain": [
              "   time_id  seconds_in_bucket  bid_price1  ask_price1  bid_price2  ask_price2  \\\n",
              "0        5                  0    1.001422    1.002301     1.00137    1.002353   \n",
              "1        5                  1    1.001422    1.002301     1.00137    1.002353   \n",
              "2        5                  5    1.001422    1.002301     1.00137    1.002405   \n",
              "3        5                  6    1.001422    1.002301     1.00137    1.002405   \n",
              "4        5                  7    1.001422    1.002301     1.00137    1.002405   \n",
              "\n",
              "   bid_size1  ask_size1  bid_size2  ask_size2  \n",
              "0          3        226          2        100  \n",
              "1          3        100          2        100  \n",
              "2          3        100          2        100  \n",
              "3          3        126          2        100  \n",
              "4          3        126          2        100  "
            ]
          },
          "execution_count": 3,
          "metadata": {},
          "output_type": "execute_result"
        }
      ],
      "source": [
        "book_df.head()"
      ]
    },
    {
      "cell_type": "markdown",
      "metadata": {
        "id": "NowY7IWmbuAZ"
      },
      "source": [
        "The dataframe `trade_df` is very similar. Each row represents one trade. There are just 3 features here."
      ]
    },
    {
      "cell_type": "code",
      "execution_count": 4,
      "metadata": {
        "id": "YP_1LPrDbuAZ",
        "outputId": "3d7ab984-f0d3-4c48-b956-e9d3086d4eb8"
      },
      "outputs": [
        {
          "data": {
            "text/html": [
              "<div>\n",
              "<style scoped>\n",
              "    .dataframe tbody tr th:only-of-type {\n",
              "        vertical-align: middle;\n",
              "    }\n",
              "\n",
              "    .dataframe tbody tr th {\n",
              "        vertical-align: top;\n",
              "    }\n",
              "\n",
              "    .dataframe thead th {\n",
              "        text-align: right;\n",
              "    }\n",
              "</style>\n",
              "<table border=\"1\" class=\"dataframe\">\n",
              "  <thead>\n",
              "    <tr style=\"text-align: right;\">\n",
              "      <th></th>\n",
              "      <th>time_id</th>\n",
              "      <th>seconds_in_bucket</th>\n",
              "      <th>price</th>\n",
              "      <th>size</th>\n",
              "      <th>order_count</th>\n",
              "    </tr>\n",
              "  </thead>\n",
              "  <tbody>\n",
              "    <tr>\n",
              "      <th>0</th>\n",
              "      <td>5</td>\n",
              "      <td>21</td>\n",
              "      <td>1.002301</td>\n",
              "      <td>326</td>\n",
              "      <td>12</td>\n",
              "    </tr>\n",
              "    <tr>\n",
              "      <th>1</th>\n",
              "      <td>5</td>\n",
              "      <td>46</td>\n",
              "      <td>1.002778</td>\n",
              "      <td>128</td>\n",
              "      <td>4</td>\n",
              "    </tr>\n",
              "    <tr>\n",
              "      <th>2</th>\n",
              "      <td>5</td>\n",
              "      <td>50</td>\n",
              "      <td>1.002818</td>\n",
              "      <td>55</td>\n",
              "      <td>1</td>\n",
              "    </tr>\n",
              "    <tr>\n",
              "      <th>3</th>\n",
              "      <td>5</td>\n",
              "      <td>57</td>\n",
              "      <td>1.003155</td>\n",
              "      <td>121</td>\n",
              "      <td>5</td>\n",
              "    </tr>\n",
              "    <tr>\n",
              "      <th>4</th>\n",
              "      <td>5</td>\n",
              "      <td>68</td>\n",
              "      <td>1.003646</td>\n",
              "      <td>4</td>\n",
              "      <td>1</td>\n",
              "    </tr>\n",
              "  </tbody>\n",
              "</table>\n",
              "</div>"
            ],
            "text/plain": [
              "   time_id  seconds_in_bucket     price  size  order_count\n",
              "0        5                 21  1.002301   326           12\n",
              "1        5                 46  1.002778   128            4\n",
              "2        5                 50  1.002818    55            1\n",
              "3        5                 57  1.003155   121            5\n",
              "4        5                 68  1.003646     4            1"
            ]
          },
          "execution_count": 4,
          "metadata": {},
          "output_type": "execute_result"
        }
      ],
      "source": [
        "trade_df.head()"
      ]
    },
    {
      "cell_type": "markdown",
      "metadata": {
        "id": "GEtgnbnJbuAa"
      },
      "source": [
        "Finally, the target data in `target_df` contains the actual realized volatility information , called `target`, from 10 minutes in the future. This is what we want to predict. The dataframe has all the `stock_id`s but we only care about `stock_id=0`. The `time_id` is again the bucket we care about. I'll restrict it to `stock_id=0` for convenience."
      ]
    },
    {
      "cell_type": "code",
      "execution_count": 5,
      "metadata": {
        "id": "g_4KnkJobuAa",
        "outputId": "466e5b7f-5a06-42a2-b382-2f1463011601"
      },
      "outputs": [
        {
          "data": {
            "text/html": [
              "<div>\n",
              "<style scoped>\n",
              "    .dataframe tbody tr th:only-of-type {\n",
              "        vertical-align: middle;\n",
              "    }\n",
              "\n",
              "    .dataframe tbody tr th {\n",
              "        vertical-align: top;\n",
              "    }\n",
              "\n",
              "    .dataframe thead th {\n",
              "        text-align: right;\n",
              "    }\n",
              "</style>\n",
              "<table border=\"1\" class=\"dataframe\">\n",
              "  <thead>\n",
              "    <tr style=\"text-align: right;\">\n",
              "      <th></th>\n",
              "      <th>time_id</th>\n",
              "      <th>target</th>\n",
              "    </tr>\n",
              "  </thead>\n",
              "  <tbody>\n",
              "    <tr>\n",
              "      <th>0</th>\n",
              "      <td>5</td>\n",
              "      <td>0.004136</td>\n",
              "    </tr>\n",
              "    <tr>\n",
              "      <th>1</th>\n",
              "      <td>11</td>\n",
              "      <td>0.001445</td>\n",
              "    </tr>\n",
              "    <tr>\n",
              "      <th>2</th>\n",
              "      <td>16</td>\n",
              "      <td>0.002168</td>\n",
              "    </tr>\n",
              "    <tr>\n",
              "      <th>3</th>\n",
              "      <td>31</td>\n",
              "      <td>0.002195</td>\n",
              "    </tr>\n",
              "    <tr>\n",
              "      <th>4</th>\n",
              "      <td>62</td>\n",
              "      <td>0.001747</td>\n",
              "    </tr>\n",
              "  </tbody>\n",
              "</table>\n",
              "</div>"
            ],
            "text/plain": [
              "   time_id    target\n",
              "0        5  0.004136\n",
              "1       11  0.001445\n",
              "2       16  0.002168\n",
              "3       31  0.002195\n",
              "4       62  0.001747"
            ]
          },
          "execution_count": 5,
          "metadata": {},
          "output_type": "execute_result"
        }
      ],
      "source": [
        "target_df.head()"
      ]
    },
    {
      "cell_type": "code",
      "execution_count": null,
      "metadata": {},
      "outputs": [],
      "source": [
        "df_book_data['wap'] = calculate_wap(df_book_data) \n",
        "df_book_data['log_return'] = df_book_data.groupby(['time_id'])['wap'].apply(log_return)\n",
        "df_book_data = df_book_data[~df_book_data['log_return'].isnull()]\n",
        "df_book_data['log_return'] = df_book_data['log_return'].apply(abs)\n",
        "df_book_data['stock_id'] = int(stock_file.split('=')[1])\n",
        "df_list.append(df_book_data)\n",
        "df = pd.concat(df_list, ignore_index=True)"
      ]
    },
    {
      "cell_type": "markdown",
      "metadata": {
        "id": "fpqN4MRobuAb"
      },
      "source": [
        "For the `book_df` dataframe, I am going to fill in the missing seconds with the data from the most recent second. For example, if is data at seconds 0, 4, and 7, then I will give seconds 1-3 the data from second 0, and seconds 5-6 the data from second 4."
      ]
    },
    {
      "cell_type": "code",
      "execution_count": 9,
      "metadata": {
        "id": "5tdK1BlAbuAb"
      },
      "outputs": [],
      "source": [
        "# get a list of all time buckets and seconds , without repetitions\n",
        "unique_times = book_df['time_id'].drop_duplicates().to_frame()\n",
        "unique_seconds = book_df['seconds_in_bucket'].drop_duplicates().sort_values().to_frame()\n",
        "\n",
        "# take the cross of these. So all possible (bucket, second) pairs are present\n",
        "full_book_df = unique_times.merge(unique_seconds, how='cross')\n",
        "\n",
        "# filling in the seconds data requires things to be sorted by seconds\n",
        "full_book_df = full_book_df.sort_values(['seconds_in_bucket', 'time_id'])\n",
        "book_sorted_df = book_df.sort_values('seconds_in_bucket')\n",
        "\n",
        "# This actually fills things in. 'on' means fill in seconds, 'by' means do it for each time_id.\n",
        "full_book_df = pd.merge_asof(left=full_book_df, right=book_sorted_df, on='seconds_in_bucket', by='time_id')\n",
        "\n",
        "# go back to our original order\n",
        "full_book_df = full_book_df.sort_values(['time_id', 'seconds_in_bucket']).reset_index(drop=True)"
      ]
    },
    {
      "cell_type": "markdown",
      "metadata": {
        "id": "1DovZNS_buAb"
      },
      "source": [
        "Now we see that all seconds are present. There are changes at seconds 1, 5, 6."
      ]
    },
    {
      "cell_type": "code",
      "execution_count": 10,
      "metadata": {
        "id": "1jUP4aNGbuAb",
        "outputId": "6c9cb194-de3f-440f-b7d7-2c5b5545079b"
      },
      "outputs": [
        {
          "data": {
            "text/html": [
              "<div>\n",
              "<style scoped>\n",
              "    .dataframe tbody tr th:only-of-type {\n",
              "        vertical-align: middle;\n",
              "    }\n",
              "\n",
              "    .dataframe tbody tr th {\n",
              "        vertical-align: top;\n",
              "    }\n",
              "\n",
              "    .dataframe thead th {\n",
              "        text-align: right;\n",
              "    }\n",
              "</style>\n",
              "<table border=\"1\" class=\"dataframe\">\n",
              "  <thead>\n",
              "    <tr style=\"text-align: right;\">\n",
              "      <th></th>\n",
              "      <th>time_id</th>\n",
              "      <th>seconds_in_bucket</th>\n",
              "      <th>bid_price1</th>\n",
              "      <th>ask_price1</th>\n",
              "      <th>bid_price2</th>\n",
              "      <th>ask_price2</th>\n",
              "      <th>bid_size1</th>\n",
              "      <th>ask_size1</th>\n",
              "      <th>bid_size2</th>\n",
              "      <th>ask_size2</th>\n",
              "    </tr>\n",
              "  </thead>\n",
              "  <tbody>\n",
              "    <tr>\n",
              "      <th>0</th>\n",
              "      <td>5</td>\n",
              "      <td>0</td>\n",
              "      <td>1.001422</td>\n",
              "      <td>1.002301</td>\n",
              "      <td>1.00137</td>\n",
              "      <td>1.002353</td>\n",
              "      <td>3</td>\n",
              "      <td>226</td>\n",
              "      <td>2</td>\n",
              "      <td>100</td>\n",
              "    </tr>\n",
              "    <tr>\n",
              "      <th>1</th>\n",
              "      <td>5</td>\n",
              "      <td>1</td>\n",
              "      <td>1.001422</td>\n",
              "      <td>1.002301</td>\n",
              "      <td>1.00137</td>\n",
              "      <td>1.002353</td>\n",
              "      <td>3</td>\n",
              "      <td>100</td>\n",
              "      <td>2</td>\n",
              "      <td>100</td>\n",
              "    </tr>\n",
              "    <tr>\n",
              "      <th>2</th>\n",
              "      <td>5</td>\n",
              "      <td>2</td>\n",
              "      <td>1.001422</td>\n",
              "      <td>1.002301</td>\n",
              "      <td>1.00137</td>\n",
              "      <td>1.002353</td>\n",
              "      <td>3</td>\n",
              "      <td>100</td>\n",
              "      <td>2</td>\n",
              "      <td>100</td>\n",
              "    </tr>\n",
              "    <tr>\n",
              "      <th>3</th>\n",
              "      <td>5</td>\n",
              "      <td>3</td>\n",
              "      <td>1.001422</td>\n",
              "      <td>1.002301</td>\n",
              "      <td>1.00137</td>\n",
              "      <td>1.002353</td>\n",
              "      <td>3</td>\n",
              "      <td>100</td>\n",
              "      <td>2</td>\n",
              "      <td>100</td>\n",
              "    </tr>\n",
              "    <tr>\n",
              "      <th>4</th>\n",
              "      <td>5</td>\n",
              "      <td>4</td>\n",
              "      <td>1.001422</td>\n",
              "      <td>1.002301</td>\n",
              "      <td>1.00137</td>\n",
              "      <td>1.002353</td>\n",
              "      <td>3</td>\n",
              "      <td>100</td>\n",
              "      <td>2</td>\n",
              "      <td>100</td>\n",
              "    </tr>\n",
              "    <tr>\n",
              "      <th>5</th>\n",
              "      <td>5</td>\n",
              "      <td>5</td>\n",
              "      <td>1.001422</td>\n",
              "      <td>1.002301</td>\n",
              "      <td>1.00137</td>\n",
              "      <td>1.002405</td>\n",
              "      <td>3</td>\n",
              "      <td>100</td>\n",
              "      <td>2</td>\n",
              "      <td>100</td>\n",
              "    </tr>\n",
              "    <tr>\n",
              "      <th>6</th>\n",
              "      <td>5</td>\n",
              "      <td>6</td>\n",
              "      <td>1.001422</td>\n",
              "      <td>1.002301</td>\n",
              "      <td>1.00137</td>\n",
              "      <td>1.002405</td>\n",
              "      <td>3</td>\n",
              "      <td>126</td>\n",
              "      <td>2</td>\n",
              "      <td>100</td>\n",
              "    </tr>\n",
              "    <tr>\n",
              "      <th>7</th>\n",
              "      <td>5</td>\n",
              "      <td>7</td>\n",
              "      <td>1.001422</td>\n",
              "      <td>1.002301</td>\n",
              "      <td>1.00137</td>\n",
              "      <td>1.002405</td>\n",
              "      <td>3</td>\n",
              "      <td>126</td>\n",
              "      <td>2</td>\n",
              "      <td>100</td>\n",
              "    </tr>\n",
              "    <tr>\n",
              "      <th>8</th>\n",
              "      <td>5</td>\n",
              "      <td>8</td>\n",
              "      <td>1.001422</td>\n",
              "      <td>1.002301</td>\n",
              "      <td>1.00137</td>\n",
              "      <td>1.002405</td>\n",
              "      <td>3</td>\n",
              "      <td>126</td>\n",
              "      <td>2</td>\n",
              "      <td>100</td>\n",
              "    </tr>\n",
              "    <tr>\n",
              "      <th>9</th>\n",
              "      <td>5</td>\n",
              "      <td>9</td>\n",
              "      <td>1.001422</td>\n",
              "      <td>1.002301</td>\n",
              "      <td>1.00137</td>\n",
              "      <td>1.002405</td>\n",
              "      <td>3</td>\n",
              "      <td>126</td>\n",
              "      <td>2</td>\n",
              "      <td>100</td>\n",
              "    </tr>\n",
              "  </tbody>\n",
              "</table>\n",
              "</div>"
            ],
            "text/plain": [
              "   time_id  seconds_in_bucket  bid_price1  ask_price1  bid_price2  ask_price2  \\\n",
              "0        5                  0    1.001422    1.002301     1.00137    1.002353   \n",
              "1        5                  1    1.001422    1.002301     1.00137    1.002353   \n",
              "2        5                  2    1.001422    1.002301     1.00137    1.002353   \n",
              "3        5                  3    1.001422    1.002301     1.00137    1.002353   \n",
              "4        5                  4    1.001422    1.002301     1.00137    1.002353   \n",
              "5        5                  5    1.001422    1.002301     1.00137    1.002405   \n",
              "6        5                  6    1.001422    1.002301     1.00137    1.002405   \n",
              "7        5                  7    1.001422    1.002301     1.00137    1.002405   \n",
              "8        5                  8    1.001422    1.002301     1.00137    1.002405   \n",
              "9        5                  9    1.001422    1.002301     1.00137    1.002405   \n",
              "\n",
              "   bid_size1  ask_size1  bid_size2  ask_size2  \n",
              "0          3        226          2        100  \n",
              "1          3        100          2        100  \n",
              "2          3        100          2        100  \n",
              "3          3        100          2        100  \n",
              "4          3        100          2        100  \n",
              "5          3        100          2        100  \n",
              "6          3        126          2        100  \n",
              "7          3        126          2        100  \n",
              "8          3        126          2        100  \n",
              "9          3        126          2        100  "
            ]
          },
          "execution_count": 10,
          "metadata": {},
          "output_type": "execute_result"
        }
      ],
      "source": [
        "full_book_df.head(10)"
      ]
    },
    {
      "cell_type": "markdown",
      "metadata": {
        "id": "2GEOOz1RbuAb"
      },
      "source": [
        "Next, we just copy the code from the Optiver notebook to calculate the *weighted average price*, or `wap`. Since the true price is somewhere between the highest bid and lowest ask, this uses the number of bids and asks to determine where in the middle the true price is. We also, copying code from the Optiver notebook, calculate the log returns."
      ]
    },
    {
      "cell_type": "code",
      "execution_count": 10,
      "metadata": {},
      "outputs": [],
      "source": [
        "def log_return(list_stock_prices):\n",
        "    return np.log(list_stock_prices).diff()\n",
        "\n",
        "book_df['wap'] = (book_df['bid_price1'] * book_df['ask_size1'] +\n",
        "                                book_df['ask_price1'] * book_df['bid_size1']) / (\n",
        "                                       book_df['bid_size1']+ book_df['ask_size1'])\n",
        "\n",
        "book_df.loc[:,'log_return'] = log_return(book_df['wap'])\n",
        "# at time 0, this calculation is meaningless\n",
        "book_df = book_df[book_df['seconds_in_bucket'] != 0]"
      ]
    },
    {
      "cell_type": "code",
      "execution_count": 11,
      "metadata": {},
      "outputs": [
        {
          "data": {
            "text/html": [
              "<div>\n",
              "<style scoped>\n",
              "    .dataframe tbody tr th:only-of-type {\n",
              "        vertical-align: middle;\n",
              "    }\n",
              "\n",
              "    .dataframe tbody tr th {\n",
              "        vertical-align: top;\n",
              "    }\n",
              "\n",
              "    .dataframe thead th {\n",
              "        text-align: right;\n",
              "    }\n",
              "</style>\n",
              "<table border=\"1\" class=\"dataframe\">\n",
              "  <thead>\n",
              "    <tr style=\"text-align: right;\">\n",
              "      <th></th>\n",
              "      <th>time_id</th>\n",
              "      <th>seconds_in_bucket</th>\n",
              "      <th>bid_price1</th>\n",
              "      <th>ask_price1</th>\n",
              "      <th>bid_price2</th>\n",
              "      <th>ask_price2</th>\n",
              "      <th>bid_size1</th>\n",
              "      <th>ask_size1</th>\n",
              "      <th>bid_size2</th>\n",
              "      <th>ask_size2</th>\n",
              "      <th>wap</th>\n",
              "      <th>log_return</th>\n",
              "    </tr>\n",
              "  </thead>\n",
              "  <tbody>\n",
              "    <tr>\n",
              "      <th>1</th>\n",
              "      <td>5</td>\n",
              "      <td>1</td>\n",
              "      <td>1.001422</td>\n",
              "      <td>1.002301</td>\n",
              "      <td>1.001370</td>\n",
              "      <td>1.002353</td>\n",
              "      <td>3</td>\n",
              "      <td>100</td>\n",
              "      <td>2</td>\n",
              "      <td>100</td>\n",
              "      <td>1.001448</td>\n",
              "      <td>NaN</td>\n",
              "    </tr>\n",
              "    <tr>\n",
              "      <th>2</th>\n",
              "      <td>5</td>\n",
              "      <td>5</td>\n",
              "      <td>1.001422</td>\n",
              "      <td>1.002301</td>\n",
              "      <td>1.001370</td>\n",
              "      <td>1.002405</td>\n",
              "      <td>3</td>\n",
              "      <td>100</td>\n",
              "      <td>2</td>\n",
              "      <td>100</td>\n",
              "      <td>1.001448</td>\n",
              "      <td>0.000000</td>\n",
              "    </tr>\n",
              "    <tr>\n",
              "      <th>3</th>\n",
              "      <td>5</td>\n",
              "      <td>6</td>\n",
              "      <td>1.001422</td>\n",
              "      <td>1.002301</td>\n",
              "      <td>1.001370</td>\n",
              "      <td>1.002405</td>\n",
              "      <td>3</td>\n",
              "      <td>126</td>\n",
              "      <td>2</td>\n",
              "      <td>100</td>\n",
              "      <td>1.001443</td>\n",
              "      <td>-0.000005</td>\n",
              "    </tr>\n",
              "    <tr>\n",
              "      <th>4</th>\n",
              "      <td>5</td>\n",
              "      <td>7</td>\n",
              "      <td>1.001422</td>\n",
              "      <td>1.002301</td>\n",
              "      <td>1.001370</td>\n",
              "      <td>1.002405</td>\n",
              "      <td>3</td>\n",
              "      <td>126</td>\n",
              "      <td>2</td>\n",
              "      <td>100</td>\n",
              "      <td>1.001443</td>\n",
              "      <td>0.000000</td>\n",
              "    </tr>\n",
              "    <tr>\n",
              "      <th>5</th>\n",
              "      <td>5</td>\n",
              "      <td>11</td>\n",
              "      <td>1.001422</td>\n",
              "      <td>1.002301</td>\n",
              "      <td>1.001370</td>\n",
              "      <td>1.002405</td>\n",
              "      <td>3</td>\n",
              "      <td>100</td>\n",
              "      <td>2</td>\n",
              "      <td>100</td>\n",
              "      <td>1.001448</td>\n",
              "      <td>0.000005</td>\n",
              "    </tr>\n",
              "    <tr>\n",
              "      <th>...</th>\n",
              "      <td>...</td>\n",
              "      <td>...</td>\n",
              "      <td>...</td>\n",
              "      <td>...</td>\n",
              "      <td>...</td>\n",
              "      <td>...</td>\n",
              "      <td>...</td>\n",
              "      <td>...</td>\n",
              "      <td>...</td>\n",
              "      <td>...</td>\n",
              "      <td>...</td>\n",
              "      <td>...</td>\n",
              "    </tr>\n",
              "    <tr>\n",
              "      <th>917548</th>\n",
              "      <td>32767</td>\n",
              "      <td>568</td>\n",
              "      <td>0.998275</td>\n",
              "      <td>0.998754</td>\n",
              "      <td>0.997796</td>\n",
              "      <td>0.998946</td>\n",
              "      <td>90</td>\n",
              "      <td>90</td>\n",
              "      <td>48</td>\n",
              "      <td>28</td>\n",
              "      <td>0.998515</td>\n",
              "      <td>0.000434</td>\n",
              "    </tr>\n",
              "    <tr>\n",
              "      <th>917549</th>\n",
              "      <td>32767</td>\n",
              "      <td>569</td>\n",
              "      <td>0.998275</td>\n",
              "      <td>0.998754</td>\n",
              "      <td>0.997892</td>\n",
              "      <td>0.998946</td>\n",
              "      <td>91</td>\n",
              "      <td>90</td>\n",
              "      <td>200</td>\n",
              "      <td>28</td>\n",
              "      <td>0.998516</td>\n",
              "      <td>0.000001</td>\n",
              "    </tr>\n",
              "    <tr>\n",
              "      <th>917550</th>\n",
              "      <td>32767</td>\n",
              "      <td>571</td>\n",
              "      <td>0.998275</td>\n",
              "      <td>0.998754</td>\n",
              "      <td>0.997892</td>\n",
              "      <td>0.998946</td>\n",
              "      <td>91</td>\n",
              "      <td>90</td>\n",
              "      <td>100</td>\n",
              "      <td>28</td>\n",
              "      <td>0.998516</td>\n",
              "      <td>0.000000</td>\n",
              "    </tr>\n",
              "    <tr>\n",
              "      <th>917551</th>\n",
              "      <td>32767</td>\n",
              "      <td>572</td>\n",
              "      <td>0.998275</td>\n",
              "      <td>0.998754</td>\n",
              "      <td>0.997892</td>\n",
              "      <td>0.998946</td>\n",
              "      <td>92</td>\n",
              "      <td>90</td>\n",
              "      <td>100</td>\n",
              "      <td>28</td>\n",
              "      <td>0.998517</td>\n",
              "      <td>0.000001</td>\n",
              "    </tr>\n",
              "    <tr>\n",
              "      <th>917552</th>\n",
              "      <td>32767</td>\n",
              "      <td>582</td>\n",
              "      <td>0.998275</td>\n",
              "      <td>0.998754</td>\n",
              "      <td>0.998179</td>\n",
              "      <td>0.998946</td>\n",
              "      <td>92</td>\n",
              "      <td>90</td>\n",
              "      <td>26</td>\n",
              "      <td>28</td>\n",
              "      <td>0.998517</td>\n",
              "      <td>0.000000</td>\n",
              "    </tr>\n",
              "  </tbody>\n",
              "</table>\n",
              "<p>913723 rows × 12 columns</p>\n",
              "</div>"
            ],
            "text/plain": [
              "        time_id  seconds_in_bucket  bid_price1  ask_price1  bid_price2  \\\n",
              "1             5                  1    1.001422    1.002301    1.001370   \n",
              "2             5                  5    1.001422    1.002301    1.001370   \n",
              "3             5                  6    1.001422    1.002301    1.001370   \n",
              "4             5                  7    1.001422    1.002301    1.001370   \n",
              "5             5                 11    1.001422    1.002301    1.001370   \n",
              "...         ...                ...         ...         ...         ...   \n",
              "917548    32767                568    0.998275    0.998754    0.997796   \n",
              "917549    32767                569    0.998275    0.998754    0.997892   \n",
              "917550    32767                571    0.998275    0.998754    0.997892   \n",
              "917551    32767                572    0.998275    0.998754    0.997892   \n",
              "917552    32767                582    0.998275    0.998754    0.998179   \n",
              "\n",
              "        ask_price2  bid_size1  ask_size1  bid_size2  ask_size2       wap  \\\n",
              "1         1.002353          3        100          2        100  1.001448   \n",
              "2         1.002405          3        100          2        100  1.001448   \n",
              "3         1.002405          3        126          2        100  1.001443   \n",
              "4         1.002405          3        126          2        100  1.001443   \n",
              "5         1.002405          3        100          2        100  1.001448   \n",
              "...            ...        ...        ...        ...        ...       ...   \n",
              "917548    0.998946         90         90         48         28  0.998515   \n",
              "917549    0.998946         91         90        200         28  0.998516   \n",
              "917550    0.998946         91         90        100         28  0.998516   \n",
              "917551    0.998946         92         90        100         28  0.998517   \n",
              "917552    0.998946         92         90         26         28  0.998517   \n",
              "\n",
              "        log_return  \n",
              "1              NaN  \n",
              "2         0.000000  \n",
              "3        -0.000005  \n",
              "4         0.000000  \n",
              "5         0.000005  \n",
              "...            ...  \n",
              "917548    0.000434  \n",
              "917549    0.000001  \n",
              "917550    0.000000  \n",
              "917551    0.000001  \n",
              "917552    0.000000  \n",
              "\n",
              "[913723 rows x 12 columns]"
            ]
          },
          "execution_count": 11,
          "metadata": {},
          "output_type": "execute_result"
        }
      ],
      "source": [
        "book_df"
      ]
    },
    {
      "cell_type": "code",
      "execution_count": 12,
      "metadata": {
        "id": "KyyCd1kwbuAc"
      },
      "outputs": [],
      "source": [
        "def log_return(list_stock_prices):\n",
        "    return np.log(list_stock_prices).diff()\n",
        "\n",
        "full_book_df['wap'] = (full_book_df['bid_price1'] * full_book_df['ask_size1'] +\n",
        "                                full_book_df['ask_price1'] * full_book_df['bid_size1']) / (\n",
        "                                       full_book_df['bid_size1']+ full_book_df['ask_size1'])\n",
        "\n",
        "full_book_df.loc[:,'log_return'] = log_return(full_book_df['wap'])\n",
        "# at time 0, this calculation is meaningless\n",
        "full_book_df = full_book_df[full_book_df['seconds_in_bucket'] != 0]"
      ]
    },
    {
      "cell_type": "code",
      "execution_count": 13,
      "metadata": {},
      "outputs": [
        {
          "data": {
            "text/plain": [
              "0          NaN\n",
              "1          0.0\n",
              "2          0.0\n",
              "3          0.0\n",
              "4          0.0\n",
              "          ... \n",
              "2294165    0.0\n",
              "2294166    0.0\n",
              "2294167    0.0\n",
              "2294168    0.0\n",
              "2294169    0.0\n",
              "Name: log_return, Length: 2294170, dtype: float64"
            ]
          },
          "execution_count": 13,
          "metadata": {},
          "output_type": "execute_result"
        }
      ],
      "source": [
        "full_book_df['log_return']"
      ]
    },
    {
      "cell_type": "markdown",
      "metadata": {
        "id": "LyawbPrMbuAc"
      },
      "source": [
        "We can grab a specific bucket, given by `time_id==5`, and plot the stock price over the 10 minute window."
      ]
    },
    {
      "cell_type": "code",
      "execution_count": 12,
      "metadata": {
        "id": "-wFI9v4RbuAc",
        "outputId": "5e597f5f-0710-4b87-d7d2-1362ae5d3add"
      },
      "outputs": [
        {
          "data": {
            "text/plain": [
              "[<matplotlib.lines.Line2D at 0x16cdeea10>]"
            ]
          },
          "execution_count": 12,
          "metadata": {},
          "output_type": "execute_result"
        },
        {
          "data": {
            "image/png": "[encoded data removed]",
            "text/plain": [
              "<Figure size 640x480 with 1 Axes>"
            ]
          },
          "metadata": {},
          "output_type": "display_data"
        }
      ],
      "source": [
        "plt.plot(full_book_df[full_book_df[\"time_id\"] == 5]['log_return'])"
      ]
    },
    {
      "cell_type": "code",
      "execution_count": 10,
      "metadata": {},
      "outputs": [
        {
          "name": "stderr",
          "output_type": "stream",
          "text": [
            "/Users/lilu/anaconda3/lib/python3.11/site-packages/statsmodels/graphics/tsaplots.py:348: FutureWarning: The default method 'yw' can produce PACF values outside of the [-1,1] interval. After 0.13, the default will change tounadjusted Yule-Walker ('ywm'). You can use this method now by setting method='ywm'.\n",
            "  warnings.warn(\n"
          ]
        },
        {
          "data": {
            "image/png": "[encoded data removed]",
            "text/plain": [
              "<Figure size 2000x500 with 2 Axes>"
            ]
          },
          "metadata": {},
          "output_type": "display_data"
        }
      ],
      "source": [
        "plt.rcParams[\"figure.figsize\"] = 20, 5\n",
        "fig, axes = plt.subplots(1, 2)\n",
        "acf = plot_acf(book_df['log_return'], lags=30, ax = axes[0])\n",
        "pacf = plot_pacf(book_df['log_return'], lags=30, ax = axes[1])\n",
        "acf.suptitle(f'Autocorrelation and Partial Autocorrelation - stock0', fontsize=20)\n",
        "plt.show()"
      ]
    },
    {
      "cell_type": "markdown",
      "metadata": {},
      "source": [
        "Now let's have a look at ARIMA model and try to find if volatility clusters exist\n"
      ]
    },
    {
      "cell_type": "code",
      "execution_count": null,
      "metadata": {},
      "outputs": [],
      "source": [
        "arima_order = []\n",
        "for stock_id in selected_stocks:\n",
        "    for order_seq in product((2, 1, 0), repeat=3):\n",
        "        if order_seq == (0, 0, 0):     #ARIMA(0,0,0) model is white noise \n",
        "            continue\n",
        "        try:\n",
        "            df_log_returns_stock = df_log_returns[df_log_returns['stock_id'] == stock_id]\n",
        "            # Slicing random time period to train ARIMA model\n",
        "            random_time_id = random.choice(df_log_returns_stock['time_id'].unique())\n",
        "            df_time_slice = df_log_returns_stock[df_log_returns_stock['time_id'] == random_time_id]\n",
        "            arima_model = ARIMA(df_time_slice['log_return'], order = order_seq)\n",
        "            results_ARIMA = arima_model.fit(disp=-1)\n",
        "            arima_order.append([order_seq, results_ARIMA.aic])\n",
        "            # print(f'{order_seq} AIC: {results_ARIMA.aic}')\n",
        "        except:\n",
        "            pass\n",
        "df_arima_order = pd.DataFrame(arima_order, columns=['order', 'aic'])"
      ]
    },
    {
      "cell_type": "markdown",
      "metadata": {
        "id": "B9rqZq3KbuAc"
      },
      "source": [
        "Now let's add the Fourier transforms. We'll do PCA on top of this. The benefit of the Fourier transform is to make things shift-independent. So if a pattern happens at times 100-110, the same pattern at times 220-230 can get picked up. To do this, I'm going to put the dataframe into a numpy tensor so that we can do the Fourier transform in parallel. I'll leave it in the tensor for now for the sake of PCA."
      ]
    },
    {
      "cell_type": "code",
      "execution_count": 15,
      "metadata": {
        "id": "qYws-_MHbuAc",
        "outputId": "fb16fb31-8a74-4ee2-80d4-130bb49a631e"
      },
      "outputs": [
        {
          "name": "stdout",
          "output_type": "stream",
          "text": [
            "Fourier shape: (3830, 599, 20). This is datapoints, timesteps, features. Features has doubled since we have real + imaginary\n"
          ]
        },
        {
          "data": {
            "text/plain": [
              "array([[[ 6.00956737e+02,  6.01476742e+02,  6.00846899e+02, ...,\n",
              "         -1.02318154e-12, -5.82867088e-15,             nan],\n",
              "        [-1.77568901e-01, -1.99706014e-01, -1.76877920e-01, ...,\n",
              "         -2.65196965e+03,  3.43157234e-03,             nan],\n",
              "        [-1.15717930e-01, -8.04041389e-02, -1.20326405e-01, ...,\n",
              "          3.05719715e+03,  1.12607886e-02,             nan],\n",
              "        ...,\n",
              "        [-4.55022008e-02, -6.61947168e-02, -5.15647648e-02, ...,\n",
              "          2.32502899e+03, -1.02647850e-02,             nan],\n",
              "        [-1.15717930e-01, -8.04041389e-02, -1.20326405e-01, ...,\n",
              "         -3.05719715e+03, -1.12607886e-02,             nan],\n",
              "        [-1.77568901e-01, -1.99706014e-01, -1.76877920e-01, ...,\n",
              "          2.65196965e+03, -3.43157234e-03,             nan]],\n",
              "\n",
              "       [[            nan,             nan,             nan, ...,\n",
              "                     nan,             nan,             nan],\n",
              "        [            nan,             nan,             nan, ...,\n",
              "                     nan,             nan,             nan],\n",
              "        [            nan,             nan,             nan, ...,\n",
              "                     nan,             nan,             nan],\n",
              "        ...,\n",
              "        [            nan,             nan,             nan, ...,\n",
              "                     nan,             nan,             nan],\n",
              "        [            nan,             nan,             nan, ...,\n",
              "                     nan,             nan,             nan],\n",
              "        [            nan,             nan,             nan, ...,\n",
              "                     nan,             nan,             nan]],\n",
              "\n",
              "       [[ 5.98455995e+02,  5.98894901e+02,  5.98328375e+02, ...,\n",
              "         -4.26325641e-13, -5.66213743e-15,  1.89735380e-19],\n",
              "        [-1.14039523e-01, -1.23424734e-01, -1.58480960e-01, ...,\n",
              "          4.34038834e+03, -2.28805174e-01, -1.30117262e-03],\n",
              "        [-7.44358266e-02, -5.39209530e-02, -9.33024316e-02, ...,\n",
              "          3.73893908e+03, -2.21677737e-01, -1.23899441e-03],\n",
              "        ...,\n",
              "        [-1.38423370e-02, -6.85139498e-03, -1.75558928e-02, ...,\n",
              "          1.94803860e+03,  4.36129159e-02,  1.15690963e-03],\n",
              "        [-7.44358266e-02, -5.39209530e-02, -9.33024316e-02, ...,\n",
              "         -3.73893908e+03,  2.21677737e-01,  1.23899441e-03],\n",
              "        [-1.14039523e-01, -1.23424734e-01, -1.58480960e-01, ...,\n",
              "         -4.34038834e+03,  2.28805174e-01,  1.30117262e-03]],\n",
              "\n",
              "       ...,\n",
              "\n",
              "       [[            nan,             nan,             nan, ...,\n",
              "                     nan,             nan,             nan],\n",
              "        [            nan,             nan,             nan, ...,\n",
              "                     nan,             nan,             nan],\n",
              "        [            nan,             nan,             nan, ...,\n",
              "                     nan,             nan,             nan],\n",
              "        ...,\n",
              "        [            nan,             nan,             nan, ...,\n",
              "                     nan,             nan,             nan],\n",
              "        [            nan,             nan,             nan, ...,\n",
              "                     nan,             nan,             nan],\n",
              "        [            nan,             nan,             nan, ...,\n",
              "                     nan,             nan,             nan]],\n",
              "\n",
              "       [[            nan,             nan,             nan, ...,\n",
              "                     nan,             nan,             nan],\n",
              "        [            nan,             nan,             nan, ...,\n",
              "                     nan,             nan,             nan],\n",
              "        [            nan,             nan,             nan, ...,\n",
              "                     nan,             nan,             nan],\n",
              "        ...,\n",
              "        [            nan,             nan,             nan, ...,\n",
              "                     nan,             nan,             nan],\n",
              "        [            nan,             nan,             nan, ...,\n",
              "                     nan,             nan,             nan],\n",
              "        [            nan,             nan,             nan, ...,\n",
              "                     nan,             nan,             nan]],\n",
              "\n",
              "       [[ 5.98308581e+02,  5.98593402e+02,  5.98234320e+02, ...,\n",
              "         -1.08002496e-12, -1.36002321e-14, -8.40256684e-19],\n",
              "        [ 1.14016224e-01,  7.25513412e-02,  1.07655448e-01, ...,\n",
              "         -1.82326610e+03, -2.59678507e-01,  1.18430312e-03],\n",
              "        [-1.11522287e-02,  3.45431259e-02, -1.50063281e-02, ...,\n",
              "         -1.25927470e+04, -2.65714006e-02,  7.25212885e-05],\n",
              "        ...,\n",
              "        [-3.71394298e-02, -2.92133925e-02, -3.51622047e-02, ...,\n",
              "          1.64723776e+02,  4.25677823e-02,  1.36380916e-03],\n",
              "        [-1.11522287e-02,  3.45431259e-02, -1.50063281e-02, ...,\n",
              "          1.25927470e+04,  2.65714006e-02, -7.25212885e-05],\n",
              "        [ 1.14016224e-01,  7.25513412e-02,  1.07655448e-01, ...,\n",
              "          1.82326610e+03,  2.59678507e-01, -1.18430312e-03]]])"
            ]
          },
          "execution_count": 15,
          "metadata": {},
          "output_type": "execute_result"
        }
      ],
      "source": [
        "num_times = len(full_book_df['time_id'].unique())\n",
        "num_seconds = len(full_book_df['seconds_in_bucket'].unique())\n",
        "# the below could be useful\n",
        "# original_col_names = list(full_book_df.columns)\n",
        "# fourier_col_names = [\"fft_\" + name for name in original_col_names if name not in ('time_id', 'seconds_in_bucket')]\n",
        "# new_col_names = original_col_names + fourier_col_names\n",
        "\n",
        "book_tensor = full_book_df.drop(['time_id', 'seconds_in_bucket'], axis=1).to_numpy(dtype='float').reshape(num_times, num_seconds, -1)\n",
        "fourier = np.fft.fft(book_tensor, axis=1)\n",
        "\n",
        "# now fourier has complex entries. This isn't so nice for working with, so we'll split the complex numbers into real and imaginary\n",
        "real, imag = np.real(fourier), np.imag(fourier)\n",
        "fourier = np.concatenate([real, imag], axis=-1)\n",
        "print(f\"Fourier shape: {fourier.shape}. This is datapoints, timesteps, features. Features has doubled since we have real + imaginary\")\n",
        "fourier"
      ]
    },
    {
      "cell_type": "markdown",
      "metadata": {
        "id": "-ub2hBHNbuAd"
      },
      "source": [
        "At this point, if we do PCA, we'll end up leaking data from the validation set. We also need to standardize our variables (on the training set only). So we really need to do some train/test split."
      ]
    },
    {
      "cell_type": "code",
      "execution_count": null,
      "metadata": {
        "id": "o0OPz-g3buAd"
      },
      "outputs": [],
      "source": [
        "train_proportion = .8\n",
        "train_cutoff_index = int(train_proportion*fourier.shape[0])\n",
        "\n",
        "fourier_train, fourier_test = np.split(fourier, [train_cutoff_index,])\n",
        "train_mean = np.mean(fourier_train, axis=(0, 1))\n",
        "train_std = np.std(fourier_train, axis=(0, 1))\n",
        "normalized_train = (fourier_train-train_mean)/train_std\n",
        "# we use the train_std and train_mean since that's what we do PCA on.\n",
        "normalized_test = (fourier_test-train_mean)/train_std"
      ]
    },
    {
      "cell_type": "markdown",
      "metadata": {
        "id": "yC-JzdsWbuAd"
      },
      "source": [
        "Now we can run PCA on the train dataset. It takes my computer about 10 seconds, so it's not too slow. If this runs out of memory, we can switch to incremental PCA. I'll keep 10 dimensions (10 was selected by an elbow method)."
      ]
    },
    {
      "cell_type": "code",
      "execution_count": null,
      "metadata": {
        "id": "IghtQ6kLbuAd",
        "outputId": "65ab2a2f-dd5b-4653-c418-0f93e1ea4c66"
      },
      "outputs": [
        {
          "data": {
            "text/html": [
              "<style>#sk-container-id-1 {color: black;background-color: white;}#sk-container-id-1 pre{padding: 0;}#sk-container-id-1 div.sk-toggleable {background-color: white;}#sk-container-id-1 label.sk-toggleable__label {cursor: pointer;display: block;width: 100%;margin-bottom: 0;padding: 0.3em;box-sizing: border-box;text-align: center;}#sk-container-id-1 label.sk-toggleable__label-arrow:before {content: \"▸\";float: left;margin-right: 0.25em;color: #696969;}#sk-container-id-1 label.sk-toggleable__label-arrow:hover:before {color: black;}#sk-container-id-1 div.sk-estimator:hover label.sk-toggleable__label-arrow:before {color: black;}#sk-container-id-1 div.sk-toggleable__content {max-height: 0;max-width: 0;overflow: hidden;text-align: left;background-color: #f0f8ff;}#sk-container-id-1 div.sk-toggleable__content pre {margin: 0.2em;color: black;border-radius: 0.25em;background-color: #f0f8ff;}#sk-container-id-1 input.sk-toggleable__control:checked~div.sk-toggleable__content {max-height: 200px;max-width: 100%;overflow: auto;}#sk-container-id-1 input.sk-toggleable__control:checked~label.sk-toggleable__label-arrow:before {content: \"▾\";}#sk-container-id-1 div.sk-estimator input.sk-toggleable__control:checked~label.sk-toggleable__label {background-color: #d4ebff;}#sk-container-id-1 div.sk-label input.sk-toggleable__control:checked~label.sk-toggleable__label {background-color: #d4ebff;}#sk-container-id-1 input.sk-hidden--visually {border: 0;clip: rect(1px 1px 1px 1px);clip: rect(1px, 1px, 1px, 1px);height: 1px;margin: -1px;overflow: hidden;padding: 0;position: absolute;width: 1px;}#sk-container-id-1 div.sk-estimator {font-family: monospace;background-color: #f0f8ff;border: 1px dotted black;border-radius: 0.25em;box-sizing: border-box;margin-bottom: 0.5em;}#sk-container-id-1 div.sk-estimator:hover {background-color: #d4ebff;}#sk-container-id-1 div.sk-parallel-item::after {content: \"\";width: 100%;border-bottom: 1px solid gray;flex-grow: 1;}#sk-container-id-1 div.sk-label:hover label.sk-toggleable__label {background-color: #d4ebff;}#sk-container-id-1 div.sk-serial::before {content: \"\";position: absolute;border-left: 1px solid gray;box-sizing: border-box;top: 0;bottom: 0;left: 50%;z-index: 0;}#sk-container-id-1 div.sk-serial {display: flex;flex-direction: column;align-items: center;background-color: white;padding-right: 0.2em;padding-left: 0.2em;position: relative;}#sk-container-id-1 div.sk-item {position: relative;z-index: 1;}#sk-container-id-1 div.sk-parallel {display: flex;align-items: stretch;justify-content: center;background-color: white;position: relative;}#sk-container-id-1 div.sk-item::before, #sk-container-id-1 div.sk-parallel-item::before {content: \"\";position: absolute;border-left: 1px solid gray;box-sizing: border-box;top: 0;bottom: 0;left: 50%;z-index: -1;}#sk-container-id-1 div.sk-parallel-item {display: flex;flex-direction: column;z-index: 1;position: relative;background-color: white;}#sk-container-id-1 div.sk-parallel-item:first-child::after {align-self: flex-end;width: 50%;}#sk-container-id-1 div.sk-parallel-item:last-child::after {align-self: flex-start;width: 50%;}#sk-container-id-1 div.sk-parallel-item:only-child::after {width: 0;}#sk-container-id-1 div.sk-dashed-wrapped {border: 1px dashed gray;margin: 0 0.4em 0.5em 0.4em;box-sizing: border-box;padding-bottom: 0.4em;background-color: white;}#sk-container-id-1 div.sk-label label {font-family: monospace;font-weight: bold;display: inline-block;line-height: 1.2em;}#sk-container-id-1 div.sk-label-container {text-align: center;}#sk-container-id-1 div.sk-container {/* jupyter's `normalize.less` sets `[hidden] { display: none; }` but bootstrap.min.css set `[hidden] { display: none !important; }` so we also need the `!important` here to be able to override the default hidden behavior on the sphinx rendered scikit-learn.org. See: https://github.com/scikit-learn/scikit-learn/issues/21755 */display: inline-block !important;position: relative;}#sk-container-id-1 div.sk-text-repr-fallback {display: none;}</style><div id=\"sk-container-id-1\" class=\"sk-top-container\"><div class=\"sk-text-repr-fallback\"><pre>PCA(n_components=10)</pre><b>In a Jupyter environment, please rerun this cell to show the HTML representation or trust the notebook. <br />On GitHub, the HTML representation is unable to render, please try loading this page with nbviewer.org.</b></div><div class=\"sk-container\" hidden><div class=\"sk-item\"><div class=\"sk-estimator sk-toggleable\"><input class=\"sk-toggleable__control sk-hidden--visually\" id=\"sk-estimator-id-1\" type=\"checkbox\" checked><label for=\"sk-estimator-id-1\" class=\"sk-toggleable__label sk-toggleable__label-arrow\">PCA</label><div class=\"sk-toggleable__content\"><pre>PCA(n_components=10)</pre></div></div></div></div></div>"
            ],
            "text/plain": [
              "PCA(n_components=10)"
            ]
          },
          "execution_count": 12,
          "metadata": {},
          "output_type": "execute_result"
        }
      ],
      "source": [
        "n_components = 10\n",
        "fourier_pca = sklearn.decomposition.PCA(n_components)\n",
        "fourier_pca.fit(normalized_train.reshape([normalized_train.shape[0], -1]))\n",
        "\n",
        "# if we want to visualize the amount of variance explained, we can increase n_components and then plot the following\n",
        "# plt.plot(fourier_pca.explained_variance_ratio_)"
      ]
    },
    {
      "cell_type": "markdown",
      "metadata": {
        "id": "Upkrl565buAd"
      },
      "source": [
        "Finally, we want to capture these components as features."
      ]
    },
    {
      "cell_type": "code",
      "execution_count": null,
      "metadata": {
        "id": "jSNOCwfobuAd"
      },
      "outputs": [],
      "source": [
        "train_features = fourier_pca.transform(normalized_train.reshape([normalized_train.shape[0], -1]))\n",
        "test_features = fourier_pca.transform(normalized_test.reshape([normalized_test.shape[0], -1]))"
      ]
    },
    {
      "cell_type": "code",
      "execution_count": null,
      "metadata": {
        "id": "DgLHZk2MbuAe"
      },
      "outputs": [],
      "source": [
        "indices = full_book_df['time_id'].unique()\n",
        "train_indices = indices[:train_cutoff_index].reshape(-1, 1)\n",
        "test_indices = indices[train_cutoff_index:].reshape(-1, 1)\n",
        "\n",
        "col_names = ['time_id'] + ['pca_' + str(i) for i in range(n_components)]\n",
        "train_df = pd.DataFrame(data=np.concatenate((train_indices, train_features), axis=1),  columns=col_names)\n",
        "test_df = pd.DataFrame(data=np.concatenate((test_indices, test_features), axis=1),  columns=col_names)\n",
        "\n",
        "# change time_id back to integer\n",
        "train_df = train_df.astype({'time_id': int})\n",
        "test_df = test_df.astype({'time_id': int})"
      ]
    },
    {
      "cell_type": "markdown",
      "metadata": {
        "id": "Jc7hmthebuAe"
      },
      "source": [
        "Now `train_df` and `test_df` contain all the PCA features. They are ready to be used with `target_df`. Note that `target_df` has not yet been split into training and testing sets."
      ]
    }
  ],
  "metadata": {
    "colab": {
      "provenance": []
    },
    "kernelspec": {
      "display_name": "base",
      "language": "python",
      "name": "python3"
    },
    "language_info": {
      "codemirror_mode": {
        "name": "ipython",
        "version": 3
      },
      "file_extension": ".py",
      "mimetype": "text/x-python",
      "name": "python",
      "nbconvert_exporter": "python",
      "pygments_lexer": "ipython3",
      "version": "3.11.3"
    },
    "orig_nbformat": 4
  },
  "nbformat": 4,
  "nbformat_minor": 0
}
